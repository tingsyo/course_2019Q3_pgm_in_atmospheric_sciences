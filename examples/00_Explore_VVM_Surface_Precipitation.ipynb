{
 "cells": [
  {
   "cell_type": "markdown",
   "metadata": {},
   "source": [
    "# Explore the Surface Precipitation Data of VVM Simulations\n",
    "\n",
    "Before we proceed to apply Single Image [Super Resolution](https://en.wikipedia.org/wiki/Super-resolution_imaging) (SISR) on model output, let's first explore the dataset a little bit, to understand the characterisitcs of the dataset and possible preprocessing procedures required.\n",
    "\n",
    "## VVM output\n",
    "\n",
    "We have 2085 cases of VVM surface precipitation stored as `YYYYmmddHHMM.npy`. Let's first explore the general characteristics."
   ]
  },
  {
   "cell_type": "code",
   "execution_count": 1,
   "metadata": {},
   "outputs": [],
   "source": [
    "# Set up parameters\n",
    "DIRORI = 'D:\\\\data\\\\vvm_sprec\\\\original\\\\'\n",
    "DIR2nd = 'D:\\\\data\\\\vvm_sprec\\\\scale_0.5\\\\'\n",
    "DIR4th = 'D:\\\\data\\\\vvm_sprec\\\\scale_0.25\\\\'\n",
    "DIR8th = 'D:\\\\data\\\\vvm_sprec\\\\scale_0.125\\\\'\n",
    "\n",
    "import numpy as np\n",
    "import logging, os\n",
    "\n",
    "logger = logging.getLogger()\n",
    "logger.setLevel(logging.DEBUG)"
   ]
  },
  {
   "cell_type": "code",
   "execution_count": 2,
   "metadata": {},
   "outputs": [
    {
     "name": "stderr",
     "output_type": "stream",
     "text": [
      "INFO:root:Reading input X from: D:\\data\\vvm_sprec\\scale_0.5\\\n",
      "INFO:root:... read input size: (2585, 2)\n",
      "INFO:root:Reading output Y from: D:\\data\\vvm_sprec\\original\\\n",
      "INFO:root:... read output size: (2585, 2)\n",
      "INFO:root:... data size after merging: (2585, 3)\n"
     ]
    },
    {
     "name": "stdout",
     "output_type": "stream",
     "text": [
      "           date                                          yuri  \\\n",
      "0  200101010000  D:\\data\\vvm_sprec\\scale_0.5\\200101010000.npy   \n",
      "1  200101010100  D:\\data\\vvm_sprec\\scale_0.5\\200101010100.npy   \n",
      "2  200101010200  D:\\data\\vvm_sprec\\scale_0.5\\200101010200.npy   \n",
      "3  200101010300  D:\\data\\vvm_sprec\\scale_0.5\\200101010300.npy   \n",
      "4  200101010400  D:\\data\\vvm_sprec\\scale_0.5\\200101010400.npy   \n",
      "\n",
      "                                           xuri  \n",
      "0  D:\\data\\vvm_sprec\\scale_0.5\\200101010000.npy  \n",
      "1  D:\\data\\vvm_sprec\\scale_0.5\\200101010100.npy  \n",
      "2  D:\\data\\vvm_sprec\\scale_0.5\\200101010200.npy  \n",
      "3  D:\\data\\vvm_sprec\\scale_0.5\\200101010300.npy  \n",
      "4  D:\\data\\vvm_sprec\\scale_0.5\\200101010400.npy  \n"
     ]
    }
   ],
   "source": [
    "# Scan for data\n",
    "def loadIOTab(srcx, srcy, dropna=False):\n",
    "    import pandas as pd\n",
    "    # Scan for input data\n",
    "    logging.info(\"Reading input X from: \"+ srcx)\n",
    "    xfiles = []\n",
    "    for root, dirs, files in os.walk(srcx): \n",
    "        for fn in files: \n",
    "            if fn.endswith('.npy'): \n",
    "                 xfiles.append({'date':fn.replace('.npy',''), 'xuri':os.path.join(root, fn)})\n",
    "    xfiles = pd.DataFrame(xfiles)\n",
    "    logging.info(\"... read input size: \"+str(xfiles.shape))\n",
    "    # Scan for input data\n",
    "    logging.info(\"Reading output Y from: \"+ srcy)\n",
    "    yfiles = []\n",
    "    for root, dirs, files in os.walk(srcx): \n",
    "        for fn in files: \n",
    "            if fn.endswith('.npy'): \n",
    "                 yfiles.append({'date':fn.replace('.npy',''), 'yuri':os.path.join(root, fn)})\n",
    "    yfiles = pd.DataFrame(yfiles)\n",
    "    logging.info(\"... read output size: \"+str(yfiles.shape))\n",
    "    # Create complete IO-data\n",
    "    iotab = pd.merge(yfiles, xfiles, on='date', sort=True)\n",
    "    logging.info(\"... data size after merging: \"+str(iotab.shape))\n",
    "    # Done\n",
    "    return(iotab)\n",
    "\n",
    "iotab = loadIOTab(DIR2nd, DIRORI)\n",
    "\n",
    "print(iotab.head())"
   ]
  },
  {
   "cell_type": "markdown",
   "metadata": {},
   "source": [
    "## Basic Statistics\n",
    "\n",
    "First we want to see some simple statistics of these model output, such as minimal and maximal values, mean, median, percentiles, and variance."
   ]
  },
  {
   "cell_type": "code",
   "execution_count": 5,
   "metadata": {},
   "outputs": [
    {
     "data": {
      "text/plain": [
       "{'mean': 4.5893696e-05,\n",
       " 'std': 0.0008194651,\n",
       " 'min': 0.0,\n",
       " 'Q1': 0.0,\n",
       " 'median': 0.0,\n",
       " 'Q3': 4.1141125922683486e-10,\n",
       " 'max': 0.110247865}"
      ]
     },
     "execution_count": 5,
     "metadata": {},
     "output_type": "execute_result"
    }
   ],
   "source": [
    "# Function to derive descriptive statistics of a given map\n",
    "def describe_sprec(furi):\n",
    "    '''Read in and calculate basic statistics of a VVM surface-precipitation output.'''\n",
    "    import numpy as np\n",
    "    # Load data\n",
    "    data = np.load(furi).flatten()\n",
    "    # Calculate descriptive statistics\n",
    "    mean = data.mean()\n",
    "    sd = data.std()\n",
    "    maxi = data.max()\n",
    "    mini = data.min()\n",
    "    ps = np.percentile(data, [25, 50, 75] )\n",
    "    # Output\n",
    "    stats = {'mean': mean, 'std':sd, 'min': mini, 'Q1':ps[0], 'median':ps[1], 'Q3':ps[2], 'max':maxi}\n",
    "    return(stats)\n",
    "    \n",
    "describe_sprec(iotab.yuri.iloc[1])"
   ]
  },
  {
   "cell_type": "code",
   "execution_count": 11,
   "metadata": {},
   "outputs": [
    {
     "name": "stdout",
     "output_type": "stream",
     "text": [
      "       mean       std  min        Q1    median            Q3       max  \\\n",
      "0  0.000000  0.000000  0.0  0.000000  0.000000  0.000000e+00  0.000000   \n",
      "1  0.000046  0.000819  0.0  0.000000  0.000000  4.114113e-10  0.110248   \n",
      "2  0.077088  0.034112  0.0  0.074181  0.087226  9.715199e-02  1.619620   \n",
      "3  0.035703  0.017121  0.0  0.032645  0.040268  4.571465e-02  0.997224   \n",
      "4  0.117630  0.070742  0.0  0.078400  0.120108  1.596682e-01  2.556798   \n",
      "\n",
      "           date  \n",
      "0  200101010000  \n",
      "1  200101010100  \n",
      "2  200101010200  \n",
      "3  200101010300  \n",
      "4  200101010400  \n"
     ]
    }
   ],
   "source": [
    "# Descriptive statistics of all maps\n",
    "summary_stats = []\n",
    "for i in range(iotab.shape[0]):\n",
    "    tmp = describe_sprec(iotab.yuri.iloc[i])\n",
    "    tmp['date'] = iotab.date.iloc[i]\n",
    "    summary_stats.append(tmp)\n",
    "\n",
    "import pandas as pd\n",
    "summary_stats = pd.DataFrame(summary_stats)\n",
    "summary_stats.to_csv('data/summary_stats.csv')\n",
    "print(summary_stats.head())"
   ]
  },
  {
   "cell_type": "code",
   "execution_count": 21,
   "metadata": {},
   "outputs": [
    {
     "name": "stderr",
     "output_type": "stream",
     "text": [
      "DEBUG:matplotlib.pyplot:Loaded backend module://ipykernel.pylab.backend_inline version unknown.\n"
     ]
    },
    {
     "data": {
      "image/png": "[encoded data removed]",
      "text/plain": [
       "<Figure size 432x288 with 1 Axes>"
      ]
     },
     "metadata": {
      "needs_background": "light"
     },
     "output_type": "display_data"
    }
   ],
   "source": [
    "# Do some plotting\n",
    "%matplotlib inline\n",
    "import matplotlib.pyplot as plt\n",
    "\n",
    "plt.plot(summary_stats['max'], ls='-', c='k', label='max')\n",
    "plt.plot(summary_stats['Q3'], ls='--', c='g', label='p75')\n",
    "plt.plot(summary_stats['median'], ls='-.', c='b', label='median')\n",
    "plt.plot(summary_stats['Q1'], ls='--', c='g', label='p25')\n",
    "plt.plot(summary_stats['min'], ls=':', c='r', label='min')\n",
    "\n",
    "plt.legend()\n",
    "plt.show()"
   ]
  },
  {
   "cell_type": "code",
   "execution_count": null,
   "metadata": {},
   "outputs": [],
   "source": []
  }
 ],
 "metadata": {
  "kernelspec": {
   "display_name": "Python 3",
   "language": "python",
   "name": "python3"
  },
  "language_info": {
   "codemirror_mode": {
    "name": "ipython",
    "version": 3
   },
   "file_extension": ".py",
   "mimetype": "text/x-python",
   "name": "python",
   "nbconvert_exporter": "python",
   "pygments_lexer": "ipython3",
   "version": "3.7.4"
  }
 },
 "nbformat": 4,
 "nbformat_minor": 2
}
